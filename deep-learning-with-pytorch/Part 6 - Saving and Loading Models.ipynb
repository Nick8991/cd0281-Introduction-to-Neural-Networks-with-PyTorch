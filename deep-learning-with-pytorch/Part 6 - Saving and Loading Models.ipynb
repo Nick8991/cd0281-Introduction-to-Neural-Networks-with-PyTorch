{
 "cells": [
  {
   "cell_type": "markdown",
   "metadata": {},
   "source": [
    "# Saving and Loading Models\n",
    "\n",
    "In this notebook, I'll show you how to save and load models with PyTorch. This is important because you'll often want to load previously trained models to use in making predictions or to continue training on new data."
   ]
  },
  {
   "cell_type": "code",
   "execution_count": 1,
   "metadata": {},
   "outputs": [
    {
     "name": "stderr",
     "output_type": "stream",
     "text": [
      "C:\\Users\\tiba\\AppData\\Local\\anaconda3\\lib\\site-packages\\torchvision\\io\\image.py:13: UserWarning: Failed to load image Python extension: '[WinError 127] The specified procedure could not be found'If you don't plan on using image functionality from `torchvision.io`, you can ignore this warning. Otherwise, there might be something wrong with your environment. Did you have `libjpeg` or `libpng` installed before building `torchvision` from source?\n",
      "  warn(\n"
     ]
    }
   ],
   "source": [
    "%matplotlib inline\n",
    "%config InlineBackend.figure_format = 'retina'\n",
    "\n",
    "import matplotlib.pyplot as plt\n",
    "\n",
    "import torch\n",
    "from torch import nn\n",
    "from torch import optim\n",
    "import torch.nn.functional as F\n",
    "from torchvision import datasets, transforms\n",
    "\n",
    "import helper\n",
    "import fc_model"
   ]
  },
  {
   "cell_type": "code",
   "execution_count": 2,
   "metadata": {},
   "outputs": [],
   "source": [
    "# Define a transform to normalize the data\n",
    "transform = transforms.Compose([transforms.ToTensor(),\n",
    "                                transforms.Normalize((0.5,), (0.5,))])\n",
    "# Download and load the training data\n",
    "trainset = datasets.FashionMNIST('~/.pytorch/F_MNIST_data/', download=True, train=True, transform=transform)\n",
    "trainloader = torch.utils.data.DataLoader(trainset, batch_size=64, shuffle=True)\n",
    "\n",
    "# Download and load the test data\n",
    "testset = datasets.FashionMNIST('~/.pytorch/F_MNIST_data/', download=True, train=False, transform=transform)\n",
    "testloader = torch.utils.data.DataLoader(testset, batch_size=64, shuffle=True)"
   ]
  },
  {
   "cell_type": "markdown",
   "metadata": {},
   "source": [
    "Here we can see one of the images."
   ]
  },
  {
   "cell_type": "code",
   "execution_count": 3,
   "metadata": {},
   "outputs": [
    {
     "data": {
      "image/png": "[encoded data removed]",
      "text/plain": [
       "<Figure size 640x480 with 1 Axes>"
      ]
     },
     "metadata": {
      "image/png": {
       "height": 389,
       "width": 389
      }
     },
     "output_type": "display_data"
    }
   ],
   "source": [
    "image, label = next(iter(trainloader))\n",
    "helper.imshow(image[0,:]);"
   ]
  },
  {
   "cell_type": "markdown",
   "metadata": {},
   "source": [
    "# Train a network\n",
    "\n",
    "To make things more concise here, I moved the model architecture and training code from the last part to a file called `fc_model`. Importing this, we can easily create a fully-connected network with `fc_model.Network`, and train the network using `fc_model.train`. I'll use this model (once it's trained) to demonstrate how we can save and load models."
   ]
  },
  {
   "cell_type": "code",
   "execution_count": 4,
   "metadata": {},
   "outputs": [],
   "source": [
    "# Create the network, define the criterion and optimizer\n",
    "\n",
    "model = fc_model.Network(784, 10, [512, 256, 128])\n",
    "criterion = nn.NLLLoss()\n",
    "optimizer = optim.Adam(model.parameters(), lr=0.001)"
   ]
  },
  {
   "cell_type": "code",
   "execution_count": 5,
   "metadata": {},
   "outputs": [
    {
     "name": "stdout",
     "output_type": "stream",
     "text": [
      "Epoch: 1/2..  Training Loss: 1.701..  Test Loss: 0.970..  Test Accuracy: 0.634\n",
      "Epoch: 1/2..  Training Loss: 1.058..  Test Loss: 0.737..  Test Accuracy: 0.730\n",
      "Epoch: 1/2..  Training Loss: 0.880..  Test Loss: 0.675..  Test Accuracy: 0.756\n",
      "Epoch: 1/2..  Training Loss: 0.783..  Test Loss: 0.631..  Test Accuracy: 0.768\n",
      "Epoch: 1/2..  Training Loss: 0.755..  Test Loss: 0.616..  Test Accuracy: 0.763\n",
      "Epoch: 1/2..  Training Loss: 0.721..  Test Loss: 0.591..  Test Accuracy: 0.782\n",
      "Epoch: 1/2..  Training Loss: 0.661..  Test Loss: 0.582..  Test Accuracy: 0.785\n",
      "Epoch: 1/2..  Training Loss: 0.670..  Test Loss: 0.569..  Test Accuracy: 0.792\n",
      "Epoch: 1/2..  Training Loss: 0.679..  Test Loss: 0.571..  Test Accuracy: 0.791\n",
      "Epoch: 1/2..  Training Loss: 0.633..  Test Loss: 0.529..  Test Accuracy: 0.806\n",
      "Epoch: 1/2..  Training Loss: 0.645..  Test Loss: 0.536..  Test Accuracy: 0.801\n",
      "Epoch: 1/2..  Training Loss: 0.636..  Test Loss: 0.528..  Test Accuracy: 0.807\n",
      "Epoch: 1/2..  Training Loss: 0.625..  Test Loss: 0.530..  Test Accuracy: 0.808\n",
      "Epoch: 1/2..  Training Loss: 0.561..  Test Loss: 0.511..  Test Accuracy: 0.811\n",
      "Epoch: 1/2..  Training Loss: 0.641..  Test Loss: 0.513..  Test Accuracy: 0.811\n",
      "Epoch: 1/2..  Training Loss: 0.556..  Test Loss: 0.517..  Test Accuracy: 0.805\n",
      "Epoch: 1/2..  Training Loss: 0.593..  Test Loss: 0.497..  Test Accuracy: 0.813\n",
      "Epoch: 1/2..  Training Loss: 0.621..  Test Loss: 0.482..  Test Accuracy: 0.826\n",
      "Epoch: 1/2..  Training Loss: 0.567..  Test Loss: 0.494..  Test Accuracy: 0.822\n",
      "Epoch: 1/2..  Training Loss: 0.592..  Test Loss: 0.491..  Test Accuracy: 0.822\n",
      "Epoch: 1/2..  Training Loss: 0.593..  Test Loss: 0.492..  Test Accuracy: 0.824\n",
      "Epoch: 1/2..  Training Loss: 0.585..  Test Loss: 0.507..  Test Accuracy: 0.811\n",
      "Epoch: 1/2..  Training Loss: 0.570..  Test Loss: 0.483..  Test Accuracy: 0.826\n",
      "Epoch: 2/2..  Training Loss: 0.544..  Test Loss: 0.485..  Test Accuracy: 0.824\n",
      "Epoch: 2/2..  Training Loss: 0.583..  Test Loss: 0.509..  Test Accuracy: 0.823\n",
      "Epoch: 2/2..  Training Loss: 0.601..  Test Loss: 0.459..  Test Accuracy: 0.832\n",
      "Epoch: 2/2..  Training Loss: 0.538..  Test Loss: 0.464..  Test Accuracy: 0.833\n",
      "Epoch: 2/2..  Training Loss: 0.561..  Test Loss: 0.464..  Test Accuracy: 0.830\n",
      "Epoch: 2/2..  Training Loss: 0.547..  Test Loss: 0.462..  Test Accuracy: 0.831\n",
      "Epoch: 2/2..  Training Loss: 0.534..  Test Loss: 0.477..  Test Accuracy: 0.824\n",
      "Epoch: 2/2..  Training Loss: 0.538..  Test Loss: 0.464..  Test Accuracy: 0.828\n",
      "Epoch: 2/2..  Training Loss: 0.550..  Test Loss: 0.464..  Test Accuracy: 0.830\n",
      "Epoch: 2/2..  Training Loss: 0.526..  Test Loss: 0.451..  Test Accuracy: 0.838\n",
      "Epoch: 2/2..  Training Loss: 0.502..  Test Loss: 0.461..  Test Accuracy: 0.832\n",
      "Epoch: 2/2..  Training Loss: 0.554..  Test Loss: 0.458..  Test Accuracy: 0.833\n",
      "Epoch: 2/2..  Training Loss: 0.494..  Test Loss: 0.448..  Test Accuracy: 0.836\n",
      "Epoch: 2/2..  Training Loss: 0.535..  Test Loss: 0.474..  Test Accuracy: 0.827\n",
      "Epoch: 2/2..  Training Loss: 0.534..  Test Loss: 0.455..  Test Accuracy: 0.835\n",
      "Epoch: 2/2..  Training Loss: 0.487..  Test Loss: 0.435..  Test Accuracy: 0.843\n",
      "Epoch: 2/2..  Training Loss: 0.503..  Test Loss: 0.443..  Test Accuracy: 0.835\n",
      "Epoch: 2/2..  Training Loss: 0.499..  Test Loss: 0.447..  Test Accuracy: 0.835\n",
      "Epoch: 2/2..  Training Loss: 0.486..  Test Loss: 0.449..  Test Accuracy: 0.835\n",
      "Epoch: 2/2..  Training Loss: 0.508..  Test Loss: 0.477..  Test Accuracy: 0.821\n",
      "Epoch: 2/2..  Training Loss: 0.523..  Test Loss: 0.436..  Test Accuracy: 0.836\n",
      "Epoch: 2/2..  Training Loss: 0.495..  Test Loss: 0.449..  Test Accuracy: 0.837\n",
      "Epoch: 2/2..  Training Loss: 0.493..  Test Loss: 0.435..  Test Accuracy: 0.843\n"
     ]
    }
   ],
   "source": [
    "fc_model.train(model, trainloader, testloader, criterion, optimizer, epochs=2)"
   ]
  },
  {
   "cell_type": "markdown",
   "metadata": {},
   "source": [
    "## Saving and loading networks\n",
    "\n",
    "As you can imagine, it's impractical to train a network every time you need to use it. Instead, we can save trained networks then load them later to train more or use them for predictions.\n",
    "\n",
    "The parameters for PyTorch networks are stored in a model's `state_dict`. We can see the state dict contains the weight and bias matrices for each of our layers."
   ]
  },
  {
   "cell_type": "code",
   "execution_count": null,
   "metadata": {},
   "outputs": [],
   "source": [
    "print(\"Our model: \\n\\n\", model, '\\n')\n",
    "print(\"The state dict keys: \\n\\n\", model.state_dict().keys())"
   ]
  },
  {
   "cell_type": "markdown",
   "metadata": {},
   "source": [
    "The simplest thing to do is simply save the state dict with `torch.save`. For example, we can save it to a file `'checkpoint.pth'`."
   ]
  },
  {
   "cell_type": "code",
   "execution_count": null,
   "metadata": {},
   "outputs": [],
   "source": [
    "torch.save(model.state_dict(), 'checkpoint.pth')"
   ]
  },
  {
   "cell_type": "markdown",
   "metadata": {},
   "source": [
    "Then we can load the state dict with `torch.load`."
   ]
  },
  {
   "cell_type": "code",
   "execution_count": null,
   "metadata": {},
   "outputs": [],
   "source": [
    "state_dict = torch.load('checkpoint.pth')\n",
    "print(state_dict.keys())"
   ]
  },
  {
   "cell_type": "markdown",
   "metadata": {},
   "source": [
    "And to load the state dict in to the network, you do `model.load_state_dict(state_dict)`."
   ]
  },
  {
   "cell_type": "code",
   "execution_count": null,
   "metadata": {},
   "outputs": [],
   "source": [
    "model.load_state_dict(state_dict)"
   ]
  },
  {
   "cell_type": "markdown",
   "metadata": {},
   "source": [
    "Seems pretty straightforward, but as usual it's a bit more complicated. Loading the state dict works only if the model architecture is exactly the same as the checkpoint architecture. If I create a model with a different architecture, this fails."
   ]
  },
  {
   "cell_type": "code",
   "execution_count": null,
   "metadata": {},
   "outputs": [],
   "source": [
    "# Try this\n",
    "model = fc_model.Network(784, 10, [400, 200, 100])\n",
    "# This will throw an error because the tensor sizes are wrong!\n",
    "model.load_state_dict(state_dict)"
   ]
  },
  {
   "cell_type": "markdown",
   "metadata": {},
   "source": [
    "This means we need to rebuild the model exactly as it was when trained. Information about the model architecture needs to be saved in the checkpoint, along with the state dict. To do this, you build a dictionary with all the information you need to compeletely rebuild the model."
   ]
  },
  {
   "cell_type": "code",
   "execution_count": null,
   "metadata": {},
   "outputs": [],
   "source": [
    "checkpoint = {'input_size': 784,\n",
    "              'output_size': 10,\n",
    "              'hidden_layers': [each.out_features for each in model.hidden_layers],\n",
    "              'state_dict': model.state_dict()}\n",
    "\n",
    "torch.save(checkpoint, 'checkpoint.pth')"
   ]
  },
  {
   "cell_type": "markdown",
   "metadata": {},
   "source": [
    "Now the checkpoint has all the necessary information to rebuild the trained model. You can easily make that a function if you want. Similarly, we can write a function to load checkpoints. "
   ]
  },
  {
   "cell_type": "code",
   "execution_count": null,
   "metadata": {},
   "outputs": [],
   "source": [
    "def load_checkpoint(filepath):\n",
    "    checkpoint = torch.load(filepath)\n",
    "    model = fc_model.Network(checkpoint['input_size'],\n",
    "                             checkpoint['output_size'],\n",
    "                             checkpoint['hidden_layers'])\n",
    "    model.load_state_dict(checkpoint['state_dict'])\n",
    "    \n",
    "    return model"
   ]
  },
  {
   "cell_type": "code",
   "execution_count": null,
   "metadata": {},
   "outputs": [],
   "source": [
    "model = load_checkpoint('checkpoint.pth')\n",
    "print(model)"
   ]
  }
 ],
 "metadata": {
  "kernelspec": {
   "display_name": "Python 3 (ipykernel)",
   "language": "python",
   "name": "python3"
  },
  "language_info": {
   "codemirror_mode": {
    "name": "ipython",
    "version": 3
   },
   "file_extension": ".py",
   "mimetype": "text/x-python",
   "name": "python",
   "nbconvert_exporter": "python",
   "pygments_lexer": "ipython3",
   "version": "3.10.9"
  }
 },
 "nbformat": 4,
 "nbformat_minor": 2
}
